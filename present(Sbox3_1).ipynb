{
  "nbformat": 4,
  "nbformat_minor": 0,
  "metadata": {
    "colab": {
      "provenance": []
    },
    "kernelspec": {
      "name": "python3",
      "display_name": "Python 3"
    },
    "language_info": {
      "name": "python"
    }
  },
  "cells": [
    {
      "cell_type": "code",
      "execution_count": null,
      "metadata": {
        "id": "iqzcmo2qOrAx"
      },
      "outputs": [],
      "source": [
        "from tqdm import tqdm\n",
        "import numpy as np\n",
        "from tensorflow.keras.datasets import cifar10\n",
        "from tensorflow.keras.utils import to_categorical\n",
        "import os"
      ]
    },
    {
      "cell_type": "code",
      "source": [
        "(x_train, y_train), (x_test, y_test) = cifar10.load_data()\n",
        "x_train = x_train.astype(np.uint8)\n",
        "x_test = x_test.astype(np.uint8)\n",
        "y_train = to_categorical(y_train, 10)\n",
        "y_test = to_categorical(y_test, 10)"
      ],
      "metadata": {
        "id": "iRT31KjlRBgT",
        "colab": {
          "base_uri": "https://localhost:8080/"
        },
        "outputId": "ef9b8abe-c1f3-44f8-b2b0-7d6487110866"
      },
      "execution_count": null,
      "outputs": [
        {
          "output_type": "stream",
          "name": "stdout",
          "text": [
            "Downloading data from https://www.cs.toronto.edu/~kriz/cifar-10-python.tar.gz\n",
            "\u001b[1m170498071/170498071\u001b[0m \u001b[32m━━━━━━━━━━━━━━━━━━━━\u001b[0m\u001b[37m\u001b[0m \u001b[1m2s\u001b[0m 0us/step\n"
          ]
        }
      ]
    },
    {
      "cell_type": "code",
      "source": [
        "class PresentModified:\n",
        "    SBOX = [0xc, 0x5, 0x6, 0x1, 0x9, 0x0, 0xa, 0xd,\n",
        "            0x3, 0xe, 0xf, 0x8, 0x4, 0x7, 0x1, 0x2]\n",
        "    PBOX = [0, 16, 32, 48, 1, 17, 33, 49,\n",
        "            2, 18, 34, 50, 3, 19, 35, 51,\n",
        "            4, 20, 36, 52, 5, 21, 37, 53,\n",
        "            6, 22, 38, 54, 7, 23, 39, 55,\n",
        "            8, 24, 40, 56, 9, 25, 41, 57,\n",
        "            10, 26, 42, 58, 11, 27, 43, 59,\n",
        "            12, 28, 44, 60, 13, 29, 45, 61,\n",
        "            14, 30, 46, 62, 15, 31, 47, 63]\n",
        "\n",
        "    def __init__(self, key: bytes, rounds: int = 32):\n",
        "        self.rounds = rounds\n",
        "        self.roundkeys = self._generate_roundkeys(int.from_bytes(key, 'big'))\n",
        "\n",
        "    def _generate_roundkeys(self, key):\n",
        "        roundkeys = []\n",
        "        for i in range(1, self.rounds + 1):\n",
        "            roundkeys.append(key >> 16)\n",
        "            key = ((key & (2**19 - 1)) << 61) | (key >> 19)\n",
        "            sbox_val = self.SBOX[key >> 76]\n",
        "            key = (sbox_val << 76) | (key & (2**76 - 1))\n",
        "            key ^= i << 15\n",
        "        return roundkeys\n",
        "\n",
        "    def _add_round_key(self, state, roundkey):\n",
        "        return state ^ roundkey\n",
        "\n",
        "    def _sbox_layer(self, state):\n",
        "        output = 0\n",
        "        for i in range(16):\n",
        "            output |= self.SBOX[(state >> (i * 4)) & 0xF] << (i * 4)\n",
        "        return output\n",
        "\n",
        "    def _p_layer(self, state):\n",
        "        output = 0\n",
        "        for i in range(64):\n",
        "            output |= ((state >> i) & 1) << self.PBOX[i]\n",
        "        return output\n",
        "\n",
        "    def encrypt(self, block: bytes) -> bytes:\n",
        "        state = int.from_bytes(block, 'big')\n",
        "        for i in range(self.rounds - 1):\n",
        "            state = self._add_round_key(state, self.roundkeys[i])\n",
        "            state = self._sbox_layer(state)\n",
        "            state = self._p_layer(state)\n",
        "        state = self._add_round_key(state, self.roundkeys[-1])\n",
        "        return state.to_bytes(8, 'big')"
      ],
      "metadata": {
        "id": "H_KgaYmkPLyP"
      },
      "execution_count": null,
      "outputs": []
    },
    {
      "cell_type": "code",
      "source": [
        "def encrypt_image(img, cipher):\n",
        "    encrypted = np.zeros_like(img)\n",
        "    for ch in range(3):\n",
        "        for row in range(0, 32, 8):\n",
        "            for col in range(0, 32, 8):\n",
        "                block = img[row:row+8, col:col+8, ch].flatten()\n",
        "                for i in range(8):\n",
        "                    row_bytes = block[i*8:(i+1)*8]\n",
        "                    if len(row_bytes) < 8:\n",
        "                        row_bytes = np.pad(row_bytes, (0, 8-len(row_bytes)), 'constant')\n",
        "                    encrypted_block = cipher.encrypt(bytes(row_bytes))\n",
        "                    encrypted[row+i, col:col+8, ch] = list(encrypted_block)\n",
        "    return encrypted"
      ],
      "metadata": {
        "id": "c4LQhmPBPU88"
      },
      "execution_count": null,
      "outputs": []
    },
    {
      "cell_type": "code",
      "source": [
        "import os\n",
        "random_key = os.urandom(10)\n",
        "cipher = PresentModified(key=random_key)"
      ],
      "metadata": {
        "id": "Ye5xdMQtTpMN"
      },
      "execution_count": null,
      "outputs": []
    },
    {
      "cell_type": "code",
      "source": [
        "from tqdm import tqdm\n",
        "x_train_encrypted = np.zeros_like(x_train)\n",
        "for i in tqdm(range(len(x_train)), desc=\"Encrypting CIFAR-10\"):\n",
        "    x_train_encrypted[i] = encrypt_image(x_train[i], cipher)"
      ],
      "metadata": {
        "colab": {
          "base_uri": "https://localhost:8080/"
        },
        "id": "o_GpGIF2VckN",
        "outputId": "cbadb985-1239-4aee-c1ac-c6bea638a778"
      },
      "execution_count": null,
      "outputs": [
        {
          "output_type": "stream",
          "name": "stderr",
          "text": [
            "Encrypting CIFAR-10: 100%|██████████| 50000/50000 [3:07:23<00:00,  4.45it/s]\n"
          ]
        }
      ]
    },
    {
      "cell_type": "code",
      "source": [
        "np.save(\"x_train_encrypted.npy\", x_train_encrypted)\n",
        "np.save(\"y_train.npy\", y_train)\n"
      ],
      "metadata": {
        "id": "Tl2AeaKo_iK6"
      },
      "execution_count": null,
      "outputs": []
    },
    {
      "cell_type": "code",
      "source": [
        "np.save(\"/content/x_train_encrypted_present_mod.npy\", x_train_encrypted)\n",
        "np.save(\"/content/y_train.npy\", y_train)\n",
        "\n",
        "with open(\"/content/present_modified_key.bin\", \"wb\") as f:\n",
        "    f.write(random_key)\n"
      ],
      "metadata": {
        "id": "hn2eH4hw_wkR"
      },
      "execution_count": null,
      "outputs": []
    },
    {
      "cell_type": "code",
      "source": [
        "from google.colab import drive\n",
        "drive.mount('/content/drive')\n"
      ],
      "metadata": {
        "colab": {
          "base_uri": "https://localhost:8080/"
        },
        "id": "C1t-J4Wd__iF",
        "outputId": "91b6c6d0-103d-455b-e92a-7bb67463dc6d"
      },
      "execution_count": null,
      "outputs": [
        {
          "output_type": "stream",
          "name": "stdout",
          "text": [
            "Mounted at /content/drive\n"
          ]
        }
      ]
    },
    {
      "cell_type": "code",
      "source": [
        "import os\n",
        "from PIL import Image\n",
        "output_folder = \"/content/drive/MyDrive/Present_cipher_project/encrypted_images\"\n",
        "os.makedirs(output_folder, exist_ok=True)\n",
        "for i, img in enumerate(x_train_encrypted):\n",
        "    img_uint8 = Image.fromarray(img.astype(np.uint8))\n",
        "    img_uint8.save(os.path.join(output_folder, f\"{i}.png\"))\n"
      ],
      "metadata": {
        "id": "YyvZlXz1CgLk"
      },
      "execution_count": null,
      "outputs": []
    },
    {
      "cell_type": "code",
      "source": [
        "import shutil\n",
        "import os\n",
        "\n",
        "folder_to_zip = \"/content/drive/MyDrive/Present_cipher_project\"\n",
        "zip_output_path = \"/content/drive/MyDrive/Present_cipher_project.zip\"\n",
        "\n",
        "if os.path.exists(zip_output_path):\n",
        "    os.remove(zip_output_path)\n",
        "\n",
        "shutil.make_archive(base_name=zip_output_path.replace('.zip', ''),\n",
        "                    format='zip',\n",
        "                    root_dir=folder_to_zip)\n",
        "\n",
        "print(f\" Successfully created ZIP: {zip_output_path}\")\n"
      ],
      "metadata": {
        "colab": {
          "base_uri": "https://localhost:8080/"
        },
        "id": "RvfYlwQXEmCX",
        "outputId": "f84d896a-e6e3-40a6-e6b5-db393085920f"
      },
      "execution_count": null,
      "outputs": [
        {
          "output_type": "stream",
          "name": "stdout",
          "text": [
            " Successfully created ZIP: /content/drive/MyDrive/Present_cipher_project.zip\n"
          ]
        }
      ]
    },
    {
      "cell_type": "code",
      "source": [
        "from google.colab import files\n",
        "files.download(\"/content/drive/MyDrive/Present_cipher_project.zip\")"
      ],
      "metadata": {
        "colab": {
          "base_uri": "https://localhost:8080/",
          "height": 34
        },
        "id": "NMF4-rpYGPpF",
        "outputId": "09b3419b-f739-4b3f-b725-0ef5f527a62f"
      },
      "execution_count": null,
      "outputs": [
        {
          "output_type": "display_data",
          "data": {
            "text/plain": [
              "<IPython.core.display.Javascript object>"
            ],
            "application/javascript": [
              "\n",
              "    async function download(id, filename, size) {\n",
              "      if (!google.colab.kernel.accessAllowed) {\n",
              "        return;\n",
              "      }\n",
              "      const div = document.createElement('div');\n",
              "      const label = document.createElement('label');\n",
              "      label.textContent = `Downloading \"${filename}\": `;\n",
              "      div.appendChild(label);\n",
              "      const progress = document.createElement('progress');\n",
              "      progress.max = size;\n",
              "      div.appendChild(progress);\n",
              "      document.body.appendChild(div);\n",
              "\n",
              "      const buffers = [];\n",
              "      let downloaded = 0;\n",
              "\n",
              "      const channel = await google.colab.kernel.comms.open(id);\n",
              "      // Send a message to notify the kernel that we're ready.\n",
              "      channel.send({})\n",
              "\n",
              "      for await (const message of channel.messages) {\n",
              "        // Send a message to notify the kernel that we're ready.\n",
              "        channel.send({})\n",
              "        if (message.buffers) {\n",
              "          for (const buffer of message.buffers) {\n",
              "            buffers.push(buffer);\n",
              "            downloaded += buffer.byteLength;\n",
              "            progress.value = downloaded;\n",
              "          }\n",
              "        }\n",
              "      }\n",
              "      const blob = new Blob(buffers, {type: 'application/binary'});\n",
              "      const a = document.createElement('a');\n",
              "      a.href = window.URL.createObjectURL(blob);\n",
              "      a.download = filename;\n",
              "      div.appendChild(a);\n",
              "      a.click();\n",
              "      div.remove();\n",
              "    }\n",
              "  "
            ]
          },
          "metadata": {}
        },
        {
          "output_type": "display_data",
          "data": {
            "text/plain": [
              "<IPython.core.display.Javascript object>"
            ],
            "application/javascript": [
              "download(\"download_cc43facf-3f6d-42c1-82f4-3495432b3a1d\", \"Present_cipher_project.zip\", 164497336)"
            ]
          },
          "metadata": {}
        }
      ]
    },
    {
      "cell_type": "code",
      "source": [
        "import matplotlib.pyplot as plt\n",
        "import random\n",
        "num_images = 10\n",
        "indices = random.sample(range(len(x_train_encrypted)), num_images)\n",
        "plt.figure(figsize=(20, 4))\n",
        "\n",
        "for i, idx in enumerate(indices):\n",
        "    e\n",
        "    plt.subplot(2, num_images, i + 1)\n",
        "    plt.imshow(x_train[idx])\n",
        "    plt.title(\"Original\")\n",
        "    plt.axis('off')\n",
        "\n",
        "\n",
        "    plt.subplot(2, num_images, i + 1 + num_images)\n",
        "    plt.imshow(x_train_encrypted[idx])\n",
        "    plt.title(\"Encrypted\")\n",
        "    plt.axis('off')\n",
        "\n",
        "plt.tight_layout()\n",
        "plt.show()"
      ],
      "metadata": {
        "colab": {
          "base_uri": "https://localhost:8080/",
          "height": 300
        },
        "id": "LmLTKVH5GXCh",
        "outputId": "ed51ae23-9416-417e-8010-6d53d9af8e31"
      },
      "execution_count": null,
      "outputs": [
        {
          "output_type": "display_data",
          "data": {
            "text/plain": [
              "<Figure size 2000x400 with 20 Axes>"
            ],
            "image/png": "[encoded data removed]"
          },
          "metadata": {}
        }
      ]
    },
    {
      "cell_type": "code",
      "source": [],
      "metadata": {
        "colab": {
          "base_uri": "https://localhost:8080/"
        },
        "id": "N5kWmgdNDgqa",
        "outputId": "38e5dae1-3872-4669-f01c-f306e2719ef0"
      },
      "execution_count": null,
      "outputs": [
        {
          "output_type": "stream",
          "name": "stdout",
          "text": [
            "Mounted at /content/drive\n"
          ]
        }
      ]
    },
    {
      "cell_type": "code",
      "source": [
        "from google.colab import drive\n",
        "drive.mount('/content/drive', force_remount=True)"
      ],
      "metadata": {
        "id": "Yvzlj-i0GHV_",
        "outputId": "9a1c54e6-6643-4002-f279-3eb1a26aaf9f",
        "colab": {
          "base_uri": "https://localhost:8080/"
        }
      },
      "execution_count": null,
      "outputs": [
        {
          "output_type": "stream",
          "name": "stdout",
          "text": [
            "Mounted at /content/drive\n"
          ]
        }
      ]
    },
    {
      "cell_type": "code",
      "source": [
        "import os\n",
        "\n",
        "encrypted_img_src = '/content/drive/MyDrive/Present_cipher_project/encrypted_images'\n",
        "print(\"Exists:\", os.path.exists(encrypted_img_src))\n",
        "print(\"Is dir:\", os.path.isdir(encrypted_img_src))"
      ],
      "metadata": {
        "colab": {
          "base_uri": "https://localhost:8080/"
        },
        "id": "AJhSkgxtDjtZ",
        "outputId": "9d61145b-32fb-498b-fda9-4c7dbe3e81b5"
      },
      "execution_count": null,
      "outputs": [
        {
          "output_type": "stream",
          "name": "stdout",
          "text": [
            "Exists: True\n",
            "Is dir: True\n"
          ]
        }
      ]
    },
    {
      "cell_type": "code",
      "source": [
        "import zipfile\n",
        "import os\n",
        "\n",
        "# Paths\n",
        "base_dir = \"/content/drive/MyDrive/Present_cipher_project\"\n",
        "output_dir = \"/content/present_buckets_raw\"\n",
        "os.makedirs(output_dir, exist_ok=True)\n",
        "\n",
        "zip_map = {\n",
        "    \"present_original.zip\": \"class_0\",\n",
        "    \"present_3to1_cipher.zip\": \"class_1\",\n",
        "    \"present_3to5_cipher.zip\": \"class_2\",\n",
        "    \"present_3to2_cipher.zip\": \"class_3\",\n",
        "}\n",
        "\n",
        "# Extract all 4 zips\n",
        "for zip_name, class_name in zip_map.items():\n",
        "    zip_path = os.path.join(base_dir, zip_name)\n",
        "    extract_path = os.path.join(output_dir, class_name)\n",
        "    os.makedirs(extract_path, exist_ok=True)\n",
        "\n",
        "    with zipfile.ZipFile(zip_path, 'r') as zip_ref:\n",
        "        zip_ref.extractall(extract_path)\n",
        "\n",
        "    print(f\"Extracted {zip_name} to {extract_path}\")\n"
      ],
      "metadata": {
        "colab": {
          "base_uri": "https://localhost:8080/",
          "height": 332
        },
        "id": "PICwixR_DjwB",
        "outputId": "c7c24647-00d7-49c0-a000-b444bc272265"
      },
      "execution_count": null,
      "outputs": [
        {
          "output_type": "error",
          "ename": "FileNotFoundError",
          "evalue": "[Errno 2] No such file or directory: '/content/drive/MyDrive/Present_cipher_project/present_original.zip'",
          "traceback": [
            "\u001b[0;31m---------------------------------------------------------------------------\u001b[0m",
            "\u001b[0;31mFileNotFoundError\u001b[0m                         Traceback (most recent call last)",
            "\u001b[0;32m/tmp/ipython-input-3-2631282203.py\u001b[0m in \u001b[0;36m<cell line: 0>\u001b[0;34m()\u001b[0m\n\u001b[1;32m     20\u001b[0m     \u001b[0mos\u001b[0m\u001b[0;34m.\u001b[0m\u001b[0mmakedirs\u001b[0m\u001b[0;34m(\u001b[0m\u001b[0mextract_path\u001b[0m\u001b[0;34m,\u001b[0m \u001b[0mexist_ok\u001b[0m\u001b[0;34m=\u001b[0m\u001b[0;32mTrue\u001b[0m\u001b[0;34m)\u001b[0m\u001b[0;34m\u001b[0m\u001b[0;34m\u001b[0m\u001b[0m\n\u001b[1;32m     21\u001b[0m \u001b[0;34m\u001b[0m\u001b[0m\n\u001b[0;32m---> 22\u001b[0;31m     \u001b[0;32mwith\u001b[0m \u001b[0mzipfile\u001b[0m\u001b[0;34m.\u001b[0m\u001b[0mZipFile\u001b[0m\u001b[0;34m(\u001b[0m\u001b[0mzip_path\u001b[0m\u001b[0;34m,\u001b[0m \u001b[0;34m'r'\u001b[0m\u001b[0;34m)\u001b[0m \u001b[0;32mas\u001b[0m \u001b[0mzip_ref\u001b[0m\u001b[0;34m:\u001b[0m\u001b[0;34m\u001b[0m\u001b[0;34m\u001b[0m\u001b[0m\n\u001b[0m\u001b[1;32m     23\u001b[0m         \u001b[0mzip_ref\u001b[0m\u001b[0;34m.\u001b[0m\u001b[0mextractall\u001b[0m\u001b[0;34m(\u001b[0m\u001b[0mextract_path\u001b[0m\u001b[0;34m)\u001b[0m\u001b[0;34m\u001b[0m\u001b[0;34m\u001b[0m\u001b[0m\n\u001b[1;32m     24\u001b[0m \u001b[0;34m\u001b[0m\u001b[0m\n",
            "\u001b[0;32m/usr/lib/python3.11/zipfile.py\u001b[0m in \u001b[0;36m__init__\u001b[0;34m(self, file, mode, compression, allowZip64, compresslevel, strict_timestamps, metadata_encoding)\u001b[0m\n\u001b[1;32m   1293\u001b[0m             \u001b[0;32mwhile\u001b[0m \u001b[0;32mTrue\u001b[0m\u001b[0;34m:\u001b[0m\u001b[0;34m\u001b[0m\u001b[0;34m\u001b[0m\u001b[0m\n\u001b[1;32m   1294\u001b[0m                 \u001b[0;32mtry\u001b[0m\u001b[0;34m:\u001b[0m\u001b[0;34m\u001b[0m\u001b[0;34m\u001b[0m\u001b[0m\n\u001b[0;32m-> 1295\u001b[0;31m                     \u001b[0mself\u001b[0m\u001b[0;34m.\u001b[0m\u001b[0mfp\u001b[0m \u001b[0;34m=\u001b[0m \u001b[0mio\u001b[0m\u001b[0;34m.\u001b[0m\u001b[0mopen\u001b[0m\u001b[0;34m(\u001b[0m\u001b[0mfile\u001b[0m\u001b[0;34m,\u001b[0m \u001b[0mfilemode\u001b[0m\u001b[0;34m)\u001b[0m\u001b[0;34m\u001b[0m\u001b[0;34m\u001b[0m\u001b[0m\n\u001b[0m\u001b[1;32m   1296\u001b[0m                 \u001b[0;32mexcept\u001b[0m \u001b[0mOSError\u001b[0m\u001b[0;34m:\u001b[0m\u001b[0;34m\u001b[0m\u001b[0;34m\u001b[0m\u001b[0m\n\u001b[1;32m   1297\u001b[0m                     \u001b[0;32mif\u001b[0m \u001b[0mfilemode\u001b[0m \u001b[0;32min\u001b[0m \u001b[0mmodeDict\u001b[0m\u001b[0;34m:\u001b[0m\u001b[0;34m\u001b[0m\u001b[0;34m\u001b[0m\u001b[0m\n",
            "\u001b[0;31mFileNotFoundError\u001b[0m: [Errno 2] No such file or directory: '/content/drive/MyDrive/Present_cipher_project/present_original.zip'"
          ]
        }
      ]
    },
    {
      "cell_type": "code",
      "source": [
        "for class_name in sorted(os.listdir(input_root)):\n",
        "    class_path = os.path.join(input_root, class_name)\n",
        "    images = [img for img in os.listdir(class_path) if img.endswith((\".png\", \".jpg\"))]\n",
        "    print(f\"{class_name}: {len(images)} images\")"
      ],
      "metadata": {
        "id": "1iOT4kfaDjyy"
      },
      "execution_count": null,
      "outputs": []
    },
    {
      "cell_type": "code",
      "source": [
        "import zipfile\n",
        "import os\n",
        "\n",
        "zip_path = \"/content/drive/MyDrive/Present_cipher_project/present_3to1_cipher.zip\"\n",
        "extract_path = \"/content/present_buckets_raw/class_1\"\n",
        "\n",
        "# Clear and re-extract\n",
        "if os.path.exists(extract_path):\n",
        "    shutil.rmtree(extract_path)\n",
        "os.makedirs(extract_path, exist_ok=True)\n",
        "\n",
        "with zipfile.ZipFile(zip_path, 'r') as zip_ref:\n",
        "    zip_ref.extractall(extract_path)\n",
        "\n",
        "print(\"Re-extracted class_1 from present_3to1_cipher.zip\")\n"
      ],
      "metadata": {
        "id": "I9prdh1yDj4x"
      },
      "execution_count": null,
      "outputs": []
    },
    {
      "cell_type": "code",
      "source": [
        "for class_name in sorted(os.listdir(input_root)):\n",
        "    class_path = os.path.join(input_root, class_name)\n",
        "    images = [img for img in os.listdir(class_path) if img.endswith((\".png\", \".jpg\"))]\n",
        "    print(f\"{class_name}: {len(images)} images\")\n"
      ],
      "metadata": {
        "id": "eehjvGiCDkBX"
      },
      "execution_count": null,
      "outputs": []
    },
    {
      "cell_type": "code",
      "source": [
        "import shutil\n",
        "shutil.rmtree(\"/content/present_buckets_raw/class_1\", ignore_errors=True)\n"
      ],
      "metadata": {
        "id": "No2m1S_eDkER"
      },
      "execution_count": null,
      "outputs": []
    },
    {
      "cell_type": "code",
      "source": [
        "import zipfile\n",
        "import os\n",
        "\n",
        "zip_path = \"/content/drive/MyDrive/Present_cipher_project/present_3to1_cipher.zip\"\n",
        "extract_path = \"/content/present_buckets_raw/class_1\"\n",
        "\n",
        "# Recreate folder\n",
        "os.makedirs(extract_path, exist_ok=True)\n",
        "\n",
        "# Extract\n",
        "with zipfile.ZipFile(zip_path, 'r') as zip_ref:\n",
        "    zip_ref.extractall(extract_path)\n",
        "\n",
        "print(\" Re-extracted class_1\")\n"
      ],
      "metadata": {
        "id": "aS8fqeZ-DkG7"
      },
      "execution_count": null,
      "outputs": []
    },
    {
      "cell_type": "code",
      "source": [
        "class_path = \"/content/present_buckets_raw/class_1\"\n",
        "images = [img for img in os.listdir(class_path) if img.endswith((\".png\", \".jpg\"))]\n",
        "print(f\"class_1 now has {len(images)} images\")\n"
      ],
      "metadata": {
        "id": "p02ZQWaLDkJQ"
      },
      "execution_count": null,
      "outputs": []
    },
    {
      "cell_type": "code",
      "source": [
        "import zipfile\n",
        "import shutil\n",
        "import os\n",
        "\n",
        "# Clear old class_1 folder (just in case)\n",
        "extract_path = \"/content/present_buckets_raw/class_1\"\n",
        "shutil.rmtree(extract_path, ignore_errors=True)\n",
        "os.makedirs(extract_path, exist_ok=True)\n",
        "\n",
        "# Re-extract from the re-uploaded ZIP\n",
        "zip_path = \"/content/drive/MyDrive/Present_cipher_project/present_3to1_cipher.zip\"\n",
        "\n",
        "with zipfile.ZipFile(zip_path, 'r') as zip_ref:\n",
        "    zip_ref.extractall(extract_path)\n",
        "\n",
        "print(\" Re-extracted class_1 from the new ZIP\")\n"
      ],
      "metadata": {
        "id": "6rg_sFhxDkLw"
      },
      "execution_count": null,
      "outputs": []
    },
    {
      "cell_type": "code",
      "source": [
        "class_path = \"/content/present_buckets_raw/class_1\"\n",
        "images = [img for img in os.listdir(class_path) if img.endswith((\".png\", \".jpg\"))]\n",
        "print(f\" class_1 now has {len(images)} images\")\n"
      ],
      "metadata": {
        "id": "x2KKpZ0cDkOF"
      },
      "execution_count": null,
      "outputs": []
    },
    {
      "cell_type": "code",
      "source": [
        "import zipfile\n",
        "\n",
        "zip_path = \"/content/drive/MyDrive/Present_cipher_project/present_3to1_cipher.zip\"\n",
        "\n",
        "with zipfile.ZipFile(zip_path, 'r') as zip_ref:\n",
        "    contents = zip_ref.namelist()\n",
        "    print(f\"📦 ZIP contains {len(contents)} entries\")\n",
        "    print(\"📁 Sample entries:\", contents[:10])\n"
      ],
      "metadata": {
        "id": "cTm0BP5eDkRz"
      },
      "execution_count": null,
      "outputs": []
    },
    {
      "cell_type": "code",
      "source": [
        "import zipfile\n",
        "import shutil\n",
        "import os\n",
        "\n",
        "zip_path = \"/content/drive/MyDrive/Present_cipher_project/present_3to1_cipher.zip\"\n",
        "extract_path = \"/content/present_buckets_raw/class_1\"\n",
        "\n",
        "# Clear previous content\n",
        "shutil.rmtree(extract_path, ignore_errors=True)\n",
        "os.makedirs(extract_path, exist_ok=True)\n",
        "\n",
        "with zipfile.ZipFile(zip_path, 'r') as zip_ref:\n",
        "    for member in zip_ref.namelist():\n",
        "        if member.endswith(\".png\"):\n",
        "            # Get filename only (e.g., '0.png') even if it's inside 'encrypted_images/'\n",
        "            filename = os.path.basename(member)\n",
        "            if not filename:\n",
        "                continue\n",
        "            source = zip_ref.open(member)\n",
        "            target = open(os.path.join(extract_path, filename), \"wb\")\n",
        "            with source, target:\n",
        "                shutil.copyfileobj(source, target)\n",
        "\n",
        "print(\" Flattened extraction of class_1 completed.\")"
      ],
      "metadata": {
        "id": "43UZRIYyD_NS"
      },
      "execution_count": null,
      "outputs": []
    },
    {
      "cell_type": "code",
      "source": [
        "class_path = \"/content/present_buckets_raw/class_1\"\n",
        "images = [img for img in os.listdir(class_path) if img.endswith(\".png\")]\n",
        "print(f\" class_1 now has {len(images)} images\")\n"
      ],
      "metadata": {
        "id": "eu_P5VELD_QD"
      },
      "execution_count": null,
      "outputs": []
    },
    {
      "cell_type": "code",
      "source": [
        "# Navigate to the folder and zip it\n",
        "!cd \"/content/drive/MyDrive/Present_cipher_project\" && zip -r present_3to2_cipher.zip encrypted_images"
      ],
      "metadata": {
        "id": "0nSeJtLiD_Sw"
      },
      "execution_count": null,
      "outputs": []
    },
    {
      "cell_type": "code",
      "source": [
        "import zipfile\n",
        "import os\n",
        "\n",
        "zip_path = \"/content/drive/MyDrive/Present_cipher_project/present_3to2_cipher.zip\"\n",
        "extract_path = \"/content/present_buckets_raw/class_3\"\n",
        "os.makedirs(extract_path, exist_ok=True)\n",
        "\n",
        "with zipfile.ZipFile(zip_path, 'r') as zip_ref:\n",
        "    for member in zip_ref.namelist():\n",
        "        if member.endswith(\".png\"):\n",
        "            filename = os.path.basename(member)\n",
        "            if not filename:\n",
        "                continue\n",
        "            source = zip_ref.open(member)\n",
        "            target = open(os.path.join(extract_path, filename), \"wb\")\n",
        "            with source, target:\n",
        "                shutil.copyfileobj(source, target)\n",
        "\n",
        "print(\" Flattened extraction of class_3 completed.\")\n"
      ],
      "metadata": {
        "id": "1RhmLEvDD_WD"
      },
      "execution_count": null,
      "outputs": []
    },
    {
      "cell_type": "code",
      "source": [
        "images = os.listdir(\"/content/present_buckets_raw/class_3\")\n",
        "print(f\"class_3 now has {len(images)} images\")"
      ],
      "metadata": {
        "id": "Z5pOniShEHps"
      },
      "execution_count": null,
      "outputs": []
    },
    {
      "cell_type": "code",
      "source": [
        "import os\n",
        "import shutil\n",
        "from sklearn.model_selection import train_test_split\n",
        "\n",
        "# Paths\n",
        "input_root = \"/content/present_buckets_raw\"\n",
        "output_root = \"/content/present_buckets_split\"\n",
        "train_dir = os.path.join(output_root, \"train\")\n",
        "val_dir = os.path.join(output_root, \"val\")\n",
        "\n",
        "# Prepare output dirs\n",
        "os.makedirs(train_dir, exist_ok=True)\n",
        "os.makedirs(val_dir, exist_ok=True)\n",
        "\n",
        "val_split = 0.2\n",
        "max_images = 50000\n",
        "\n",
        "for class_name in sorted(os.listdir(input_root)):\n",
        "    class_path = os.path.join(input_root, class_name)\n",
        "    if not os.path.isdir(class_path):\n",
        "        continue\n",
        "\n",
        "    # Get only .png or .jpg images, limit to 50k\n",
        "    images = sorted([img for img in os.listdir(class_path) if img.endswith((\".png\", \".jpg\"))])[:max_images]\n",
        "\n",
        "    if len(images) == 0:\n",
        "        print(f\"Skipping {class_name} — no images found.\")\n",
        "        continue\n",
        "\n",
        "    train_imgs, val_imgs = train_test_split(images, test_size=val_split, random_state=42)\n",
        "\n",
        "    # Create class folders for train/val\n",
        "    train_class_dir = os.path.join(train_dir, class_name)\n",
        "    val_class_dir = os.path.join(val_dir, class_name)\n",
        "    os.makedirs(train_class_dir, exist_ok=True)\n",
        "    os.makedirs(val_class_dir, exist_ok=True)\n",
        "\n",
        "    # Copy train images\n",
        "    for img in train_imgs:\n",
        "        shutil.copy(os.path.join(class_path, img), os.path.join(train_class_dir, img))\n",
        "\n",
        "    # Copy val images\n",
        "    for img in val_imgs:\n",
        "        shutil.copy(os.path.join(class_path, img), os.path.join(val_class_dir, img))\n",
        "\n",
        "    print(f\" {class_name}: {len(train_imgs)} train, {len(val_imgs)} val images\")\n",
        "\n",
        "print(\" All classes split into train/val successfully.\")\n"
      ],
      "metadata": {
        "id": "FLIM6NdSEHs0"
      },
      "execution_count": null,
      "outputs": []
    },
    {
      "cell_type": "code",
      "source": [
        "# alexnet\n",
        "from tensorflow.keras.models import Sequential\n",
        "from tensorflow.keras.layers import Conv2D, MaxPooling2D, Flatten, Dense, Dropout, BatchNormalization\n",
        "from tensorflow.keras.callbacks import EarlyStopping\n",
        "from tensorflow.keras.optimizers import Adam\n",
        "\n",
        "alexnet_model = Sequential([\n",
        "    Conv2D(96, (3, 3), activation='relu', input_shape=(32, 32, 3), padding='same'),\n",
        "    BatchNormalization(),\n",
        "    MaxPooling2D(pool_size=(2, 2), strides=2),\n",
        "\n",
        "    Conv2D(256, (3, 3), activation='relu', padding='same'),\n",
        "    BatchNormalization(),\n",
        "    MaxPooling2D(pool_size=(2, 2), strides=2),\n",
        "\n",
        "    Conv2D(384, (3, 3), activation='relu', padding='same'),\n",
        "    BatchNormalization(),\n",
        "\n",
        "    Conv2D(384, (3, 3), activation='relu', padding='same'),\n",
        "    BatchNormalization(),\n",
        "\n",
        "    Conv2D(256, (3, 3), activation='relu', padding='same'),\n",
        "    BatchNormalization(),\n",
        "    MaxPooling2D(pool_size=(2, 2), strides=2),\n",
        "\n",
        "    Flatten(),\n",
        "    Dense(4096, activation='relu'),\n",
        "    Dropout(0.5),\n",
        "    Dense(4096, activation='relu'),\n",
        "    Dropout(0.5),\n",
        "    Dense(4, activation='softmax')  #  4 classes\n",
        "])\n",
        "\n",
        "alexnet_model.compile(\n",
        "    optimizer=Adam(learning_rate=0.0005),\n",
        "    loss='categorical_crossentropy',\n",
        "    metrics=['accuracy']\n",
        ")"
      ],
      "metadata": {
        "id": "W3DxGTJHEHwK"
      },
      "execution_count": null,
      "outputs": []
    },
    {
      "cell_type": "code",
      "source": [
        "from tensorflow.keras.preprocessing.image import ImageDataGenerator\n",
        "train_dir = \"/content/present_buckets_split/train\"\n",
        "val_dir = \"/content/present_buckets_split/val\"\n",
        "# Rescale pixels to [0,1]\n",
        "datagen = ImageDataGenerator(rescale=1./255)\n",
        "train_generator = datagen.flow_from_directory(\n",
        "    train_dir,\n",
        "    target_size=(32, 32),\n",
        "    batch_size=128,\n",
        "    class_mode='categorical'\n",
        ")\n",
        "val_generator = datagen.flow_from_directory(\n",
        "    val_dir,\n",
        "    target_size=(32, 32),\n",
        "    batch_size=128,\n",
        "    class_mode='categorical'\n",
        ")"
      ],
      "metadata": {
        "id": "CL5slWlvEHzJ"
      },
      "execution_count": null,
      "outputs": []
    },
    {
      "cell_type": "code",
      "source": [
        "early_stopping = EarlyStopping(monitor='val_loss', patience=5, restore_best_weights=True)\n",
        "\n",
        "history = alexnet_model.fit(\n",
        "    train_generator,\n",
        "    validation_data=val_generator,\n",
        "    epochs=50,\n",
        "    callbacks=[early_stopping]\n",
        ")"
      ],
      "metadata": {
        "id": "s5OUAheaEH11"
      },
      "execution_count": null,
      "outputs": []
    },
    {
      "cell_type": "code",
      "source": [
        "alexnet_model.fit(\n",
        "    train_generator,\n",
        "    validation_data=val_generator,\n",
        "    initial_epoch=12,   # resume from where you stopped\n",
        "    epochs=50,\n",
        "    callbacks=[early_stopping]\n",
        ")"
      ],
      "metadata": {
        "id": "8U4L4X02EH5P"
      },
      "execution_count": null,
      "outputs": []
    },
    {
      "cell_type": "code",
      "source": [
        "alexnet_model.save(\"alexnet_present_model.keras\")"
      ],
      "metadata": {
        "id": "6EkjfvOrEVWG"
      },
      "execution_count": null,
      "outputs": []
    },
    {
      "cell_type": "code",
      "source": [
        "val_generator_no_shuffle = datagen.flow_from_directory(\n",
        "    val_dir,\n",
        "    target_size=(32, 32),\n",
        "    batch_size=128,\n",
        "    class_mode='categorical',\n",
        "    shuffle=False\n",
        ")\n",
        "\n",
        "alexnet_model.evaluate(val_generator_no_shuffle)"
      ],
      "metadata": {
        "id": "S1kAYl2LEVYq"
      },
      "execution_count": null,
      "outputs": []
    },
    {
      "cell_type": "code",
      "source": [
        "from tensorflow.keras.layers import Input, Conv2D, DepthwiseConv2D, BatchNormalization, ReLU, GlobalAveragePooling2D, Dense\n",
        "from tensorflow.keras.models import Model\n",
        "def mobilenet_block(x, filters, strides):\n",
        "    x = DepthwiseConv2D(kernel_size=3, strides=strides, padding='same')(x)\n",
        "    x = BatchNormalization()(x)\n",
        "    x = ReLU()(x)\n",
        "    x = Conv2D(filters, kernel_size=1, strides=1, padding='same')(x)\n",
        "    x = BatchNormalization()(x)\n",
        "    x = ReLU()(x)\n",
        "    return x\n",
        "def build_mobilenet(input_shape=(32, 32, 3), num_classes=4):\n",
        "    inputs = Input(shape=input_shape)\n",
        "    x = Conv2D(32, kernel_size=3, strides=1, padding='same')(inputs)\n",
        "    x = BatchNormalization()(x)\n",
        "    x = ReLU()(x)\n",
        "    x = mobilenet_block(x, filters=64, strides=1)\n",
        "    x = mobilenet_block(x, filters=128, strides=2)\n",
        "    x = mobilenet_block(x, filters=128, strides=1)\n",
        "    x = mobilenet_block(x, filters=256, strides=2)\n",
        "    x = mobilenet_block(x, filters=256, strides=1)\n",
        "    x = mobilenet_block(x, filters=512, strides=2)\n",
        "    x = GlobalAveragePooling2D()(x)\n",
        "    x = Dense(128, activation='relu')(x)\n",
        "    outputs = Dense(num_classes, activation='softmax')(x)\n",
        "    model = Model(inputs, outputs)\n",
        "    return model"
      ],
      "metadata": {
        "id": "F8Oco7hoEVbW"
      },
      "execution_count": null,
      "outputs": []
    },
    {
      "cell_type": "code",
      "source": [
        "mobilenet_model = build_mobilenet()\n",
        "mobilenet_model.compile(optimizer='adam',\n",
        "                        loss='categorical_crossentropy',\n",
        "                        metrics=['accuracy'])"
      ],
      "metadata": {
        "id": "bcf1LG11EVeA"
      },
      "execution_count": null,
      "outputs": []
    },
    {
      "cell_type": "code",
      "source": [
        "history = mobilenet_model.fit(\n",
        "    train_generator,\n",
        "    validation_data=val_generator_no_shuffle,\n",
        "    epochs=50,\n",
        "    callbacks=[early_stopping]\n",
        ")"
      ],
      "metadata": {
        "id": "jDDK6A75EVgi"
      },
      "execution_count": null,
      "outputs": []
    },
    {
      "cell_type": "code",
      "source": [
        "mobilenet_model.save('/content/mobilenet_present_cipher.keras')"
      ],
      "metadata": {
        "id": "LHhWUyE8EVj5"
      },
      "execution_count": null,
      "outputs": []
    },
    {
      "cell_type": "code",
      "source": [
        "alexnet_model.save('/content/drive/MyDrive/Present_cipher_project/alexnet_present_cipher.h5')\n",
        "\n",
        "# Save training history\n",
        "import pickle\n",
        "\n",
        "with open('/content/drive/MyDrive/Present_cipher_project/alexnet_history.pkl', 'wb') as f:\n",
        "    pickle.dump(history_alexnet.history, f)\n"
      ],
      "metadata": {
        "id": "CeSgfkYFEqK5"
      },
      "execution_count": null,
      "outputs": []
    },
    {
      "cell_type": "code",
      "source": [
        "mobilenet_model.save('/content/drive/MyDrive/Present_cipher_project/mobilenet_present_cipher.keras')\n",
        "import pickle\n",
        "with open('/content/drive/MyDrive/Present_cipher_project/mobilenet_history.pkl', 'wb') as f:\n",
        "    pickle.dump(history.history, f)"
      ],
      "metadata": {
        "id": "GcN20o1WEqNZ"
      },
      "execution_count": null,
      "outputs": []
    },
    {
      "cell_type": "code",
      "source": [
        "alexnet_model.save('/content/drive/MyDrive/Present_cipher_project/alexnet_present_cipher.keras')"
      ],
      "metadata": {
        "id": "guOKWsuDEqQH"
      },
      "execution_count": null,
      "outputs": []
    },
    {
      "cell_type": "code",
      "source": [
        "from tensorflow.keras.callbacks import EarlyStopping\n",
        "\n",
        "early_stopping = EarlyStopping(monitor='val_loss', patience=10, restore_best_weights=True)\n",
        "\n",
        "# Retrain AlexNet and save history properly\n",
        "history_alexnet = alexnet_model.fit(\n",
        "    train_generator,\n",
        "    validation_data=val_generator_no_shuffle,  # no shuffle to match label order\n",
        "    batch_size=128,\n",
        "    epochs=50,\n",
        "    callbacks=[early_stopping]\n",
        ")"
      ],
      "metadata": {
        "id": "ezo0xlrgEqSv"
      },
      "execution_count": null,
      "outputs": []
    },
    {
      "cell_type": "code",
      "source": [
        "import pickle\n",
        "with open('/content/drive/MyDrive/Present_cipher_project/alexnet_history.pkl', 'wb') as f:\n",
        "    pickle.dump(history_alexnet.history, f)\n"
      ],
      "metadata": {
        "id": "N6LpySPbEqVD"
      },
      "execution_count": null,
      "outputs": []
    },
    {
      "cell_type": "code",
      "source": [
        "import matplotlib.pyplot as plt\n",
        "\n",
        "# Step 1: Extract .history if needed\n",
        "# If alexnet_hist is a History object (not a dict), extract its .history dictionary\n",
        "if hasattr(alexnet_hist, 'history'):\n",
        "    alexnet_hist = alexnet_hist.history\n",
        "\n",
        "# Step 2: Get MobileNet's history\n",
        "mobilenet_hist = history.history  # assuming `history` is from MobileNet model.fit()\n",
        "\n",
        "# Step 3: Plot Accuracy and Loss\n",
        "plt.figure(figsize=(14, 5))\n",
        "\n",
        "# Plot Accuracy\n",
        "plt.subplot(1, 2, 1)\n",
        "plt.plot(alexnet_hist['accuracy'], label='AlexNet Train', linestyle='--')\n",
        "plt.plot(alexnet_hist['val_accuracy'], label='AlexNet Val', linestyle='-')\n",
        "plt.plot(mobilenet_hist['accuracy'], label='MobileNet Train', linestyle='--')\n",
        "plt.plot(mobilenet_hist['val_accuracy'], label='MobileNet Val', linestyle='-')\n",
        "plt.title('Model Accuracy Comparison')\n",
        "plt.xlabel('Epoch')\n",
        "plt.ylabel('Accuracy')\n",
        "plt.legend()\n",
        "plt.grid(True)\n",
        "\n",
        "# Plot Loss\n",
        "plt.subplot(1, 2, 2)\n",
        "plt.plot(alexnet_hist['loss'], label='AlexNet Train', linestyle='--')\n",
        "plt.plot(alexnet_hist['val_loss'], label='AlexNet Val', linestyle='-')\n",
        "plt.plot(mobilenet_hist['loss'], label='MobileNet Train', linestyle='--')\n",
        "plt.plot(mobilenet_hist['val_loss'], label='MobileNet Val', linestyle='-')\n",
        "plt.title('Model Loss Comparison')\n",
        "plt.xlabel('Epoch')\n",
        "plt.ylabel('Loss')\n",
        "plt.legend()\n",
        "plt.grid(True)\n",
        "\n",
        "plt.tight_layout()\n",
        "plt.show()\n"
      ],
      "metadata": {
        "id": "YxAnxVy2EqYY"
      },
      "execution_count": null,
      "outputs": []
    },
    {
      "cell_type": "code",
      "source": [
        "from google.colab import drive\n",
        "drive.mount('/content/drive')"
      ],
      "metadata": {
        "id": "zroqGBIHE3G_"
      },
      "execution_count": null,
      "outputs": []
    },
    {
      "cell_type": "code",
      "source": [
        "from tensorflow.keras.models import load_model\n",
        "\n",
        "alexnet_model = load_model('/content/drive/MyDrive/Present_cipher_project/alexnet_present_cipher.keras')\n",
        "mobilenet_model = load_model('/content/drive/MyDrive/Present_cipher_project/mobilenet_present_cipher.keras')\n"
      ],
      "metadata": {
        "id": "b7WooTBvE3Jv"
      },
      "execution_count": null,
      "outputs": []
    },
    {
      "cell_type": "code",
      "source": [
        "!zip -r \"/content/drive/MyDrive/Present_cipher_project/present_buckets_split.zip\" \"/content/present_buckets_split\""
      ],
      "metadata": {
        "id": "sYAsdHsiE3Mp"
      },
      "execution_count": null,
      "outputs": []
    },
    {
      "cell_type": "code",
      "source": [
        "from tensorflow.keras.preprocessing.image import ImageDataGenerator\n",
        "\n",
        "val_dir = \"/content/present_buckets_split/val\"\n",
        "\n",
        "datagen = ImageDataGenerator(rescale=1./255)\n",
        "val_generator_no_shuffle = datagen.flow_from_directory(\n",
        "    val_dir,\n",
        "    target_size=(32, 32),\n",
        "    batch_size=128,\n",
        "    class_mode='categorical',\n",
        "    shuffle=False\n",
        ")"
      ],
      "metadata": {
        "id": "11mSos3tE3PV"
      },
      "execution_count": null,
      "outputs": []
    },
    {
      "cell_type": "code",
      "source": [
        "import numpy as np\n",
        "\n",
        "# Load all validation data from the generator\n",
        "X_test, y_test = [], []\n",
        "\n",
        "for i in range(len(val_generator_no_shuffle)):\n",
        "    x_batch, y_batch = val_generator_no_shuffle[i]\n",
        "    X_test.append(x_batch)\n",
        "    y_test.append(y_batch)\n",
        "\n",
        "X_test = np.concatenate(X_test)\n",
        "y_test = np.concatenate(y_test)\n",
        "\n",
        "print(\"X_test shape:\", X_test.shape)\n",
        "print(\"y_test shape:\", y_test.shape)\n"
      ],
      "metadata": {
        "id": "jc8bTwFgE3SU"
      },
      "execution_count": null,
      "outputs": []
    },
    {
      "cell_type": "code",
      "source": [
        "import numpy as np\n",
        "import matplotlib.pyplot as plt\n",
        "import random\n",
        "\n",
        "# Class labels\n",
        "class_names = ['PRESENT', '3→2 S-box', '3→5 S-box', '3→1 S-box']\n",
        "\n",
        "# Get predictions from both models\n",
        "y_pred_alexnet = np.argmax(alexnet_model.predict(X_test), axis=1)\n",
        "y_pred_mobilenet = np.argmax(mobilenet_model.predict(X_test), axis=1)\n",
        "y_true = np.argmax(y_test, axis=1)\n",
        "\n",
        "# Plot 10 random images with both predictions\n",
        "plt.figure(figsize=(20, 10))\n",
        "for i in range(10):\n",
        "    idx = random.randint(0, len(X_test) - 1)\n",
        "    img = X_test[idx]\n",
        "    true_label = int(y_true[idx])\n",
        "    pred_alex = int(y_pred_alexnet[idx])\n",
        "    pred_mobilenet = int(y_pred_mobilenet[idx])\n",
        "\n",
        "    plt.subplot(2, 5, i + 1)\n",
        "    plt.imshow(img.astype(\"uint8\"))\n",
        "    title = f\"True: {class_names[true_label]}\\nAlexNet: {class_names[pred_alex]}\\nMobileNet: {class_names[pred_mobilenet]}\"\n",
        "    color = \"green\" if (pred_alex == true_label and pred_mobilenet == true_label) else \"red\"\n",
        "    plt.title(title, color=color, fontsize=10)\n",
        "    plt.axis('off')\n",
        "\n",
        "plt.tight_layout()\n",
        "plt.savefig(\"alexnet_vs_mobilenet_predictions.png\")\n",
        "plt.show()\n"
      ],
      "metadata": {
        "id": "e6PAV5KYE3Vw"
      },
      "execution_count": null,
      "outputs": []
    }
  ]
}